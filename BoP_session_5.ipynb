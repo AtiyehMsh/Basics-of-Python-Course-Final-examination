{
  "nbformat": 4,
  "nbformat_minor": 0,
  "metadata": {
    "colab": {
      "provenance": [],
      "toc_visible": true
    },
    "kernelspec": {
      "name": "python3",
      "display_name": "Python 3"
    },
    "language_info": {
      "name": "python"
    }
  },
  "cells": [
    {
      "cell_type": "markdown",
      "source": [
        "# BASICS OF PYTHON | SESSION 5\n",
        "\n",
        "---\n"
      ],
      "metadata": {
        "id": "pS4-jYwD_U5v"
      }
    },
    {
      "cell_type": "markdown",
      "source": [
        "Please follow the next steps over the next 3 hours in order to complete your exam successfully:\n",
        "\n",
        "\n",
        "1. Download **Spotify Song Attributes** dataset from [HERE](https://www.kaggle.com/datasets/geomack/spotifyclassification).\n",
        "2. Import dataset in **Google Colab**.\n",
        "3. Overview dataset and define **one reasonable question**. An important point is to select a question that you will be able to implement statistical tests and plotting.\n",
        "4. **Preprocess** the dataset to start your analysis.\n",
        "5. Implement the **statistical models**.\n",
        "6. **Plot** your results.\n",
        "7. Set up your **GitHub** account. You can get help from this [LINK](https://docs.aws.amazon.com/codedeploy/latest/userguide/tutorials-github-create-github-account.html).\n",
        "8. Upload your code and results in a **repository**.\n",
        "9. Modify the repository title and description then **publish it**.\n",
        "10. **Share your public repository** [HERE](https://docs.google.com/spreadsheets/d/1bveNOi9efLNgxqxh5uH5xhNG57bQ7DPCnG_sLAX4wmY/edit?usp=sharing).\n"
      ],
      "metadata": {
        "id": "7b9YrJx24Wjo"
      }
    },
    {
      "cell_type": "markdown",
      "source": [],
      "metadata": {
        "id": "_eC5CtXQt8OB"
      }
    },
    {
      "cell_type": "markdown",
      "source": [
        "# 1.&nbsp;Data Importing"
      ],
      "metadata": {
        "id": "anY9j--Fj79Z"
      }
    },
    {
      "cell_type": "code",
      "source": [
        "import pandas as pd\n",
        "import numpy as np\n",
        "from google.colab import drive\n",
        "drive.mount('/content/drive')\n",
        "data = pd.read_csv('/content/drive/MyDrive/Python/spotify song attributes data.csv')"
      ],
      "metadata": {
        "id": "9bYWUoe03v8p",
        "colab": {
          "base_uri": "https://localhost:8080/"
        },
        "outputId": "4dea6de2-451b-46ed-c2ab-2f9d270c9fc5"
      },
      "execution_count": 37,
      "outputs": [
        {
          "output_type": "stream",
          "name": "stdout",
          "text": [
            "Drive already mounted at /content/drive; to attempt to forcibly remount, call drive.mount(\"/content/drive\", force_remount=True).\n"
          ]
        }
      ]
    },
    {
      "cell_type": "markdown",
      "source": [
        "# 2.&nbsp;Data Cleaning (overview)"
      ],
      "metadata": {
        "id": "BbH5OJkwF1aW"
      }
    },
    {
      "cell_type": "code",
      "source": [
        "print(data)"
      ],
      "metadata": {
        "colab": {
          "base_uri": "https://localhost:8080/"
        },
        "id": "gGX_FtQuvAjM",
        "outputId": "c0113529-4a42-4fe1-ca45-e32a1e334e88"
      },
      "execution_count": 27,
      "outputs": [
        {
          "output_type": "stream",
          "name": "stdout",
          "text": [
            "      Unnamed: 0  acousticness  danceability  duration_ms  energy  \\\n",
            "0              0       0.01020         0.833       204600   0.434   \n",
            "1              1       0.19900         0.743       326933   0.359   \n",
            "2              2       0.03440         0.838       185707   0.412   \n",
            "3              3       0.60400         0.494       199413   0.338   \n",
            "4              4       0.18000         0.678       392893   0.561   \n",
            "...          ...           ...           ...          ...     ...   \n",
            "2012        2012       0.00106         0.584       274404   0.932   \n",
            "2013        2013       0.08770         0.894       182182   0.892   \n",
            "2014        2014       0.00857         0.637       207200   0.935   \n",
            "2015        2015       0.00164         0.557       185600   0.992   \n",
            "2016        2016       0.00281         0.446       204520   0.915   \n",
            "\n",
            "      instrumentalness  key  liveness  loudness  mode  speechiness    tempo  \\\n",
            "0             0.021900    2    0.1650    -8.795     1       0.4310  150.062   \n",
            "1             0.006110    1    0.1370   -10.401     1       0.0794  160.083   \n",
            "2             0.000234    2    0.1590    -7.148     1       0.2890   75.044   \n",
            "3             0.510000    5    0.0922   -15.236     1       0.0261   86.468   \n",
            "4             0.512000    5    0.4390   -11.648     0       0.0694  174.004   \n",
            "...                ...  ...       ...       ...   ...          ...      ...   \n",
            "2012          0.002690    1    0.1290    -3.501     1       0.3330   74.976   \n",
            "2013          0.001670    1    0.0528    -2.663     1       0.1310  110.041   \n",
            "2014          0.003990    0    0.2140    -2.467     1       0.1070  150.082   \n",
            "2015          0.677000    1    0.0913    -2.735     1       0.1330  150.011   \n",
            "2016          0.000039    9    0.2180    -6.221     1       0.1410  190.013   \n",
            "\n",
            "      time_signature  valence  target                            song_title  \\\n",
            "0                4.0    0.286       1                              Mask Off   \n",
            "1                4.0    0.588       1                               Redbone   \n",
            "2                4.0    0.173       1                          Xanny Family   \n",
            "3                4.0    0.230       1                        Master Of None   \n",
            "4                4.0    0.904       1                        Parallel Lines   \n",
            "...              ...      ...     ...                                   ...   \n",
            "2012             4.0    0.211       0   Like A Bitch - Kill The Noise Remix   \n",
            "2013             4.0    0.867       0                                 Candy   \n",
            "2014             4.0    0.470       0  Habit - Dack Janiels & Wenzday Remix   \n",
            "2015             4.0    0.623       0                         First Contact   \n",
            "2016             4.0    0.402       0                    I Wanna Get Better   \n",
            "\n",
            "                artist  \n",
            "0               Future  \n",
            "1     Childish Gambino  \n",
            "2               Future  \n",
            "3          Beach House  \n",
            "4          Junior Boys  \n",
            "...                ...  \n",
            "2012    Kill The Noise  \n",
            "2013    Dillon Francis  \n",
            "2014          Rain Man  \n",
            "2015        Twin Moons  \n",
            "2016         Bleachers  \n",
            "\n",
            "[2017 rows x 17 columns]\n"
          ]
        }
      ]
    },
    {
      "cell_type": "code",
      "source": [
        "print(data.columns)"
      ],
      "metadata": {
        "colab": {
          "base_uri": "https://localhost:8080/"
        },
        "id": "KfX1PHvjwHrd",
        "outputId": "0a9cf9b6-00ab-4815-a01a-af5f6caa6923"
      },
      "execution_count": 20,
      "outputs": [
        {
          "output_type": "stream",
          "name": "stdout",
          "text": [
            "Index(['Unnamed: 0', 'acousticness', 'danceability', 'duration_ms', 'energy',\n",
            "       'instrumentalness', 'key', 'liveness', 'loudness', 'mode',\n",
            "       'speechiness', 'tempo', 'time_signature', 'valence', 'target',\n",
            "       'song_title', 'artist'],\n",
            "      dtype='object')\n"
          ]
        }
      ]
    },
    {
      "cell_type": "code",
      "source": [
        "data.head()            # preview data\n",
        "data.info()            # data types and nulls\n",
        "data.size              # total number of elements\n",
        "data.shape             # (rows, columns)\n",
        "data.isnull().sum()    # count missing values per column"
      ],
      "metadata": {
        "id": "AtiQL5ze3wVb",
        "colab": {
          "base_uri": "https://localhost:8080/",
          "height": 1000
        },
        "outputId": "0f9f68fe-ccd9-4668-decc-347e8e56ab0d"
      },
      "execution_count": 17,
      "outputs": [
        {
          "output_type": "stream",
          "name": "stdout",
          "text": [
            "<class 'pandas.core.frame.DataFrame'>\n",
            "RangeIndex: 2017 entries, 0 to 2016\n",
            "Data columns (total 17 columns):\n",
            " #   Column            Non-Null Count  Dtype  \n",
            "---  ------            --------------  -----  \n",
            " 0   Unnamed: 0        2017 non-null   int64  \n",
            " 1   acousticness      2017 non-null   float64\n",
            " 2   danceability      2017 non-null   float64\n",
            " 3   duration_ms       2017 non-null   int64  \n",
            " 4   energy            2017 non-null   float64\n",
            " 5   instrumentalness  2017 non-null   float64\n",
            " 6   key               2017 non-null   int64  \n",
            " 7   liveness          2017 non-null   float64\n",
            " 8   loudness          2017 non-null   float64\n",
            " 9   mode              2017 non-null   int64  \n",
            " 10  speechiness       2017 non-null   float64\n",
            " 11  tempo             2017 non-null   float64\n",
            " 12  time_signature    2017 non-null   float64\n",
            " 13  valence           2017 non-null   float64\n",
            " 14  target            2017 non-null   int64  \n",
            " 15  song_title        2017 non-null   object \n",
            " 16  artist            2017 non-null   object \n",
            "dtypes: float64(10), int64(5), object(2)\n",
            "memory usage: 268.0+ KB\n"
          ]
        },
        {
          "output_type": "execute_result",
          "data": {
            "text/plain": [
              "Unnamed: 0          0\n",
              "acousticness        0\n",
              "danceability        0\n",
              "duration_ms         0\n",
              "energy              0\n",
              "instrumentalness    0\n",
              "key                 0\n",
              "liveness            0\n",
              "loudness            0\n",
              "mode                0\n",
              "speechiness         0\n",
              "tempo               0\n",
              "time_signature      0\n",
              "valence             0\n",
              "target              0\n",
              "song_title          0\n",
              "artist              0\n",
              "dtype: int64"
            ],
            "text/html": [
              "<div>\n",
              "<style scoped>\n",
              "    .dataframe tbody tr th:only-of-type {\n",
              "        vertical-align: middle;\n",
              "    }\n",
              "\n",
              "    .dataframe tbody tr th {\n",
              "        vertical-align: top;\n",
              "    }\n",
              "\n",
              "    .dataframe thead th {\n",
              "        text-align: right;\n",
              "    }\n",
              "</style>\n",
              "<table border=\"1\" class=\"dataframe\">\n",
              "  <thead>\n",
              "    <tr style=\"text-align: right;\">\n",
              "      <th></th>\n",
              "      <th>0</th>\n",
              "    </tr>\n",
              "  </thead>\n",
              "  <tbody>\n",
              "    <tr>\n",
              "      <th>Unnamed: 0</th>\n",
              "      <td>0</td>\n",
              "    </tr>\n",
              "    <tr>\n",
              "      <th>acousticness</th>\n",
              "      <td>0</td>\n",
              "    </tr>\n",
              "    <tr>\n",
              "      <th>danceability</th>\n",
              "      <td>0</td>\n",
              "    </tr>\n",
              "    <tr>\n",
              "      <th>duration_ms</th>\n",
              "      <td>0</td>\n",
              "    </tr>\n",
              "    <tr>\n",
              "      <th>energy</th>\n",
              "      <td>0</td>\n",
              "    </tr>\n",
              "    <tr>\n",
              "      <th>instrumentalness</th>\n",
              "      <td>0</td>\n",
              "    </tr>\n",
              "    <tr>\n",
              "      <th>key</th>\n",
              "      <td>0</td>\n",
              "    </tr>\n",
              "    <tr>\n",
              "      <th>liveness</th>\n",
              "      <td>0</td>\n",
              "    </tr>\n",
              "    <tr>\n",
              "      <th>loudness</th>\n",
              "      <td>0</td>\n",
              "    </tr>\n",
              "    <tr>\n",
              "      <th>mode</th>\n",
              "      <td>0</td>\n",
              "    </tr>\n",
              "    <tr>\n",
              "      <th>speechiness</th>\n",
              "      <td>0</td>\n",
              "    </tr>\n",
              "    <tr>\n",
              "      <th>tempo</th>\n",
              "      <td>0</td>\n",
              "    </tr>\n",
              "    <tr>\n",
              "      <th>time_signature</th>\n",
              "      <td>0</td>\n",
              "    </tr>\n",
              "    <tr>\n",
              "      <th>valence</th>\n",
              "      <td>0</td>\n",
              "    </tr>\n",
              "    <tr>\n",
              "      <th>target</th>\n",
              "      <td>0</td>\n",
              "    </tr>\n",
              "    <tr>\n",
              "      <th>song_title</th>\n",
              "      <td>0</td>\n",
              "    </tr>\n",
              "    <tr>\n",
              "      <th>artist</th>\n",
              "      <td>0</td>\n",
              "    </tr>\n",
              "  </tbody>\n",
              "</table>\n",
              "</div><br><label><b>dtype:</b> int64</label>"
            ]
          },
          "metadata": {},
          "execution_count": 17
        }
      ]
    },
    {
      "cell_type": "markdown",
      "source": [
        "# 3.&nbsp;Data Cleaning (interpretability)"
      ],
      "metadata": {
        "id": "5l-pYjWiy0TX"
      }
    },
    {
      "cell_type": "code",
      "source": [
        "# Convert and round the 'duration_ms' column to minutes and rename it\n",
        "\n",
        "data['duration_ms'] = round(data['duration_ms'] / (1000 * 60), 2)\n",
        "data = data.rename(columns={'duration_ms': 'duration-min'})\n",
        "\n",
        "print(data)\n"
      ],
      "metadata": {
        "id": "t9m96Nxd3w38",
        "colab": {
          "base_uri": "https://localhost:8080/"
        },
        "outputId": "11a2d76b-b4f9-40fa-95d9-1bd4853a44b8"
      },
      "execution_count": 38,
      "outputs": [
        {
          "output_type": "stream",
          "name": "stdout",
          "text": [
            "      Unnamed: 0  acousticness  danceability  duration-min  energy  \\\n",
            "0              0       0.01020         0.833          3.41   0.434   \n",
            "1              1       0.19900         0.743          5.45   0.359   \n",
            "2              2       0.03440         0.838          3.10   0.412   \n",
            "3              3       0.60400         0.494          3.32   0.338   \n",
            "4              4       0.18000         0.678          6.55   0.561   \n",
            "...          ...           ...           ...           ...     ...   \n",
            "2012        2012       0.00106         0.584          4.57   0.932   \n",
            "2013        2013       0.08770         0.894          3.04   0.892   \n",
            "2014        2014       0.00857         0.637          3.45   0.935   \n",
            "2015        2015       0.00164         0.557          3.09   0.992   \n",
            "2016        2016       0.00281         0.446          3.41   0.915   \n",
            "\n",
            "      instrumentalness  key  liveness  loudness  mode  speechiness    tempo  \\\n",
            "0             0.021900    2    0.1650    -8.795     1       0.4310  150.062   \n",
            "1             0.006110    1    0.1370   -10.401     1       0.0794  160.083   \n",
            "2             0.000234    2    0.1590    -7.148     1       0.2890   75.044   \n",
            "3             0.510000    5    0.0922   -15.236     1       0.0261   86.468   \n",
            "4             0.512000    5    0.4390   -11.648     0       0.0694  174.004   \n",
            "...                ...  ...       ...       ...   ...          ...      ...   \n",
            "2012          0.002690    1    0.1290    -3.501     1       0.3330   74.976   \n",
            "2013          0.001670    1    0.0528    -2.663     1       0.1310  110.041   \n",
            "2014          0.003990    0    0.2140    -2.467     1       0.1070  150.082   \n",
            "2015          0.677000    1    0.0913    -2.735     1       0.1330  150.011   \n",
            "2016          0.000039    9    0.2180    -6.221     1       0.1410  190.013   \n",
            "\n",
            "      time_signature  valence  target                            song_title  \\\n",
            "0                4.0    0.286       1                              Mask Off   \n",
            "1                4.0    0.588       1                               Redbone   \n",
            "2                4.0    0.173       1                          Xanny Family   \n",
            "3                4.0    0.230       1                        Master Of None   \n",
            "4                4.0    0.904       1                        Parallel Lines   \n",
            "...              ...      ...     ...                                   ...   \n",
            "2012             4.0    0.211       0   Like A Bitch - Kill The Noise Remix   \n",
            "2013             4.0    0.867       0                                 Candy   \n",
            "2014             4.0    0.470       0  Habit - Dack Janiels & Wenzday Remix   \n",
            "2015             4.0    0.623       0                         First Contact   \n",
            "2016             4.0    0.402       0                    I Wanna Get Better   \n",
            "\n",
            "                artist  \n",
            "0               Future  \n",
            "1     Childish Gambino  \n",
            "2               Future  \n",
            "3          Beach House  \n",
            "4          Junior Boys  \n",
            "...                ...  \n",
            "2012    Kill The Noise  \n",
            "2013    Dillon Francis  \n",
            "2014          Rain Man  \n",
            "2015        Twin Moons  \n",
            "2016         Bleachers  \n",
            "\n",
            "[2017 rows x 17 columns]\n"
          ]
        }
      ]
    },
    {
      "cell_type": "code",
      "source": [
        "# rounding acousticness, instrumentalness, speechiness, liveness, loudness\n",
        "\n",
        "data['acousticness'] = (data['acousticness']).round(3)\n",
        "data['instrumentalness'] = (data['instrumentalness']).round(3)\n",
        "data['speechiness'] = (data['speechiness']).round(3)\n",
        "data['liveness'] = (data['liveness']).round(3)\n",
        "data['loudness'] = np.round(data['loudness'], decimals=2)\n",
        "\n",
        "print(data)"
      ],
      "metadata": {
        "colab": {
          "base_uri": "https://localhost:8080/"
        },
        "id": "awnUdMWTzOCc",
        "outputId": "a68ee091-3eda-4375-c647-08e7a47dab7b"
      },
      "execution_count": 43,
      "outputs": [
        {
          "output_type": "stream",
          "name": "stdout",
          "text": [
            "      Unnamed: 0  acousticness  danceability  duration-min  energy  \\\n",
            "0              0         0.010         0.833          3.41   0.434   \n",
            "1              1         0.199         0.743          5.45   0.359   \n",
            "2              2         0.034         0.838          3.10   0.412   \n",
            "3              3         0.604         0.494          3.32   0.338   \n",
            "4              4         0.180         0.678          6.55   0.561   \n",
            "...          ...           ...           ...           ...     ...   \n",
            "2012        2012         0.001         0.584          4.57   0.932   \n",
            "2013        2013         0.088         0.894          3.04   0.892   \n",
            "2014        2014         0.009         0.637          3.45   0.935   \n",
            "2015        2015         0.002         0.557          3.09   0.992   \n",
            "2016        2016         0.003         0.446          3.41   0.915   \n",
            "\n",
            "      instrumentalness  key  liveness  loudness  mode  speechiness    tempo  \\\n",
            "0                0.022    2     0.165     -8.80     1        0.431  150.062   \n",
            "1                0.006    1     0.137    -10.40     1        0.079  160.083   \n",
            "2                0.000    2     0.159     -7.15     1        0.289   75.044   \n",
            "3                0.510    5     0.092    -15.24     1        0.026   86.468   \n",
            "4                0.512    5     0.439    -11.65     0        0.069  174.004   \n",
            "...                ...  ...       ...       ...   ...          ...      ...   \n",
            "2012             0.003    1     0.129     -3.50     1        0.333   74.976   \n",
            "2013             0.002    1     0.053     -2.66     1        0.131  110.041   \n",
            "2014             0.004    0     0.214     -2.47     1        0.107  150.082   \n",
            "2015             0.677    1     0.091     -2.74     1        0.133  150.011   \n",
            "2016             0.000    9     0.218     -6.22     1        0.141  190.013   \n",
            "\n",
            "      time_signature  valence  target                            song_title  \\\n",
            "0                4.0    0.286       1                              Mask Off   \n",
            "1                4.0    0.588       1                               Redbone   \n",
            "2                4.0    0.173       1                          Xanny Family   \n",
            "3                4.0    0.230       1                        Master Of None   \n",
            "4                4.0    0.904       1                        Parallel Lines   \n",
            "...              ...      ...     ...                                   ...   \n",
            "2012             4.0    0.211       0   Like A Bitch - Kill The Noise Remix   \n",
            "2013             4.0    0.867       0                                 Candy   \n",
            "2014             4.0    0.470       0  Habit - Dack Janiels & Wenzday Remix   \n",
            "2015             4.0    0.623       0                         First Contact   \n",
            "2016             4.0    0.402       0                    I Wanna Get Better   \n",
            "\n",
            "                artist  \n",
            "0               Future  \n",
            "1     Childish Gambino  \n",
            "2               Future  \n",
            "3          Beach House  \n",
            "4          Junior Boys  \n",
            "...                ...  \n",
            "2012    Kill The Noise  \n",
            "2013    Dillon Francis  \n",
            "2014          Rain Man  \n",
            "2015        Twin Moons  \n",
            "2016         Bleachers  \n",
            "\n",
            "[2017 rows x 17 columns]\n"
          ]
        }
      ]
    },
    {
      "cell_type": "markdown",
      "source": [
        "# 4.&nbsp;Data Cleaning (reduction)"
      ],
      "metadata": {
        "id": "LDCm_efBzFJL"
      }
    },
    {
      "cell_type": "code",
      "source": [
        "# Removeing the time_signature from data\n",
        "\n",
        "data = data.drop('time_signature', axis=1)\n",
        "print(data)"
      ],
      "metadata": {
        "id": "qBxw9fzM3xYd",
        "colab": {
          "base_uri": "https://localhost:8080/"
        },
        "outputId": "3fe88a9c-95de-4695-ec90-2316c9180e41"
      },
      "execution_count": 44,
      "outputs": [
        {
          "output_type": "stream",
          "name": "stdout",
          "text": [
            "      Unnamed: 0  acousticness  danceability  duration-min  energy  \\\n",
            "0              0         0.010         0.833          3.41   0.434   \n",
            "1              1         0.199         0.743          5.45   0.359   \n",
            "2              2         0.034         0.838          3.10   0.412   \n",
            "3              3         0.604         0.494          3.32   0.338   \n",
            "4              4         0.180         0.678          6.55   0.561   \n",
            "...          ...           ...           ...           ...     ...   \n",
            "2012        2012         0.001         0.584          4.57   0.932   \n",
            "2013        2013         0.088         0.894          3.04   0.892   \n",
            "2014        2014         0.009         0.637          3.45   0.935   \n",
            "2015        2015         0.002         0.557          3.09   0.992   \n",
            "2016        2016         0.003         0.446          3.41   0.915   \n",
            "\n",
            "      instrumentalness  key  liveness  loudness  mode  speechiness    tempo  \\\n",
            "0                0.022    2     0.165     -8.80     1        0.431  150.062   \n",
            "1                0.006    1     0.137    -10.40     1        0.079  160.083   \n",
            "2                0.000    2     0.159     -7.15     1        0.289   75.044   \n",
            "3                0.510    5     0.092    -15.24     1        0.026   86.468   \n",
            "4                0.512    5     0.439    -11.65     0        0.069  174.004   \n",
            "...                ...  ...       ...       ...   ...          ...      ...   \n",
            "2012             0.003    1     0.129     -3.50     1        0.333   74.976   \n",
            "2013             0.002    1     0.053     -2.66     1        0.131  110.041   \n",
            "2014             0.004    0     0.214     -2.47     1        0.107  150.082   \n",
            "2015             0.677    1     0.091     -2.74     1        0.133  150.011   \n",
            "2016             0.000    9     0.218     -6.22     1        0.141  190.013   \n",
            "\n",
            "      valence  target                            song_title            artist  \n",
            "0       0.286       1                              Mask Off            Future  \n",
            "1       0.588       1                               Redbone  Childish Gambino  \n",
            "2       0.173       1                          Xanny Family            Future  \n",
            "3       0.230       1                        Master Of None       Beach House  \n",
            "4       0.904       1                        Parallel Lines       Junior Boys  \n",
            "...       ...     ...                                   ...               ...  \n",
            "2012    0.211       0   Like A Bitch - Kill The Noise Remix    Kill The Noise  \n",
            "2013    0.867       0                                 Candy    Dillon Francis  \n",
            "2014    0.470       0  Habit - Dack Janiels & Wenzday Remix          Rain Man  \n",
            "2015    0.623       0                         First Contact        Twin Moons  \n",
            "2016    0.402       0                    I Wanna Get Better         Bleachers  \n",
            "\n",
            "[2017 rows x 16 columns]\n"
          ]
        }
      ]
    },
    {
      "cell_type": "markdown",
      "source": [
        "# 5.&nbsp;Data Cleaning (noisy data)"
      ],
      "metadata": {
        "id": "Stxl8ESOzYRP"
      }
    },
    {
      "cell_type": "code",
      "source": [
        "# Removeing the songs with zero instrumentalness and without enough liveness\n",
        "\n",
        "data = data.drop(data[(data['instrumentalness'] == 0) & (data['liveness'] < 0.5)].index)\n",
        "print(data)\n"
      ],
      "metadata": {
        "id": "WjlpDiO83x-c",
        "colab": {
          "base_uri": "https://localhost:8080/"
        },
        "outputId": "30a36aa7-0b64-4796-f15f-ac003b495792"
      },
      "execution_count": 45,
      "outputs": [
        {
          "output_type": "stream",
          "name": "stdout",
          "text": [
            "      Unnamed: 0  acousticness  danceability  duration-min  energy  \\\n",
            "0              0         0.010         0.833          3.41   0.434   \n",
            "1              1         0.199         0.743          5.45   0.359   \n",
            "3              3         0.604         0.494          3.32   0.338   \n",
            "4              4         0.180         0.678          6.55   0.561   \n",
            "7              7         0.020         0.266          5.83   0.348   \n",
            "...          ...           ...           ...           ...     ...   \n",
            "2011        2011         0.001         0.528          4.08   0.879   \n",
            "2012        2012         0.001         0.584          4.57   0.932   \n",
            "2013        2013         0.088         0.894          3.04   0.892   \n",
            "2014        2014         0.009         0.637          3.45   0.935   \n",
            "2015        2015         0.002         0.557          3.09   0.992   \n",
            "\n",
            "      instrumentalness  key  liveness  loudness  mode  speechiness    tempo  \\\n",
            "0                0.022    2     0.165     -8.80     1        0.431  150.062   \n",
            "1                0.006    1     0.137    -10.40     1        0.079  160.083   \n",
            "3                0.510    5     0.092    -15.24     1        0.026   86.468   \n",
            "4                0.512    5     0.439    -11.65     0        0.069  174.004   \n",
            "7                0.664   10     0.160    -11.61     0        0.037  144.154   \n",
            "...                ...  ...       ...       ...   ...          ...      ...   \n",
            "2011             0.005    6     0.043     -5.89     0        0.120  128.268   \n",
            "2012             0.003    1     0.129     -3.50     1        0.333   74.976   \n",
            "2013             0.002    1     0.053     -2.66     1        0.131  110.041   \n",
            "2014             0.004    0     0.214     -2.47     1        0.107  150.082   \n",
            "2015             0.677    1     0.091     -2.74     1        0.133  150.011   \n",
            "\n",
            "      valence  target                            song_title            artist  \n",
            "0       0.286       1                              Mask Off            Future  \n",
            "1       0.588       1                               Redbone  Childish Gambino  \n",
            "3       0.230       1                        Master Of None       Beach House  \n",
            "4       0.904       1                        Parallel Lines       Junior Boys  \n",
            "7       0.393       1                       Gyöngyhajú lány             Omega  \n",
            "...       ...     ...                                   ...               ...  \n",
            "2011    0.327       0           Brightside - Borgeous Remix         Icona Pop  \n",
            "2012    0.211       0   Like A Bitch - Kill The Noise Remix    Kill The Noise  \n",
            "2013    0.867       0                                 Candy    Dillon Francis  \n",
            "2014    0.470       0  Habit - Dack Janiels & Wenzday Remix          Rain Man  \n",
            "2015    0.623       0                         First Contact        Twin Moons  \n",
            "\n",
            "[928 rows x 16 columns]\n"
          ]
        }
      ]
    },
    {
      "cell_type": "markdown",
      "source": [
        "# 6.&nbsp;Data Cleaning (completeness)"
      ],
      "metadata": {
        "id": "iwrKQarlxh2r"
      }
    },
    {
      "cell_type": "code",
      "source": [
        "# chacking nan values\n",
        "data.isna().any().any()"
      ],
      "metadata": {
        "id": "frO1h4yZ3yeG",
        "colab": {
          "base_uri": "https://localhost:8080/"
        },
        "outputId": "d02fcd4c-0cbf-4125-8702-df72764681f6"
      },
      "execution_count": 47,
      "outputs": [
        {
          "output_type": "execute_result",
          "data": {
            "text/plain": [
              "np.False_"
            ]
          },
          "metadata": {},
          "execution_count": 47
        }
      ]
    },
    {
      "cell_type": "markdown",
      "source": [
        "# 7.&nbsp;Data Exploring\n"
      ],
      "metadata": {
        "id": "fD30B1eeF8QF"
      }
    },
    {
      "cell_type": "code",
      "source": [
        "# selecting the rows with mode 1, duration-min more than 4, and danceability more than 0.4\n",
        "\n",
        "selected_data = data[(data['mode'] == 1) & (data['duration-min'] > 4) & (data['danceability'] > 0.4)]\n",
        "selected_data.shape"
      ],
      "metadata": {
        "id": "SFugLB7H3zAz",
        "colab": {
          "base_uri": "https://localhost:8080/"
        },
        "outputId": "a542b1b1-fda1-48ab-fdfe-2fcbbe655797"
      },
      "execution_count": 49,
      "outputs": [
        {
          "output_type": "execute_result",
          "data": {
            "text/plain": [
              "(237, 16)"
            ]
          },
          "metadata": {},
          "execution_count": 49
        }
      ]
    },
    {
      "cell_type": "code",
      "source": [
        "# sorting the data by liveness with value more than 0.2 in descending order\n",
        "\n",
        "sorted_data = data[data['liveness'] > 0.2].sort_values(by='liveness', ascending=False)\n",
        "sorted_data.shape"
      ],
      "metadata": {
        "colab": {
          "base_uri": "https://localhost:8080/"
        },
        "id": "TrbZWhFs6fL1",
        "outputId": "21e860f5-9ee9-4a32-a588-4b5b81b80ebf"
      },
      "execution_count": 54,
      "outputs": [
        {
          "output_type": "execute_result",
          "data": {
            "text/plain": [
              "(338, 16)"
            ]
          },
          "metadata": {},
          "execution_count": 54
        }
      ]
    },
    {
      "cell_type": "code",
      "source": [
        "# which song_title has highest tempo and which song has highest liveness\n",
        "\n",
        "max_tempo_song = data[data['tempo'] == data['tempo'].max()]\n",
        "max_liveness_song = data[data['liveness'] == data['liveness'].max()]\n",
        "print(f'highest tempo:', max_tempo_song['song_title'])\n",
        "print(f'highest liveness:',max_liveness_song['song_title'])"
      ],
      "metadata": {
        "colab": {
          "base_uri": "https://localhost:8080/"
        },
        "id": "mn6IO4z67LH3",
        "outputId": "8cdd0a38-1fa6-4018-bc19-717a178b5881"
      },
      "execution_count": 62,
      "outputs": [
        {
          "output_type": "stream",
          "name": "stdout",
          "text": [
            "highest tempo: 412    Lazuli\n",
            "Name: song_title, dtype: object\n",
            "highest liveness: 783    dance yrself clean - live at madison square ga...\n",
            "Name: song_title, dtype: object\n"
          ]
        }
      ]
    },
    {
      "cell_type": "markdown",
      "source": [
        "# 8.&nbsp;Data Analysis"
      ],
      "metadata": {
        "id": "L5CGhoqnGJxO"
      }
    },
    {
      "cell_type": "code",
      "source": [
        "# Correlated attributes\n",
        "\n",
        "correlated_data = data.select_dtypes(include=['number']).corr()\n",
        "print(correlated_data)"
      ],
      "metadata": {
        "id": "Qcoz2MvN3zdI",
        "colab": {
          "base_uri": "https://localhost:8080/"
        },
        "outputId": "02511537-9e6e-47ad-ab7e-b2530da00f03"
      },
      "execution_count": 67,
      "outputs": [
        {
          "output_type": "stream",
          "name": "stdout",
          "text": [
            "                  Unnamed: 0  acousticness  danceability  duration-min  \\\n",
            "Unnamed: 0          1.000000      0.219697     -0.177890     -0.064569   \n",
            "acousticness        0.219697      1.000000     -0.266090      0.136518   \n",
            "danceability       -0.177890     -0.266090      1.000000      0.060789   \n",
            "duration-min       -0.064569      0.136518      0.060789      1.000000   \n",
            "energy             -0.112489     -0.725804      0.136501     -0.190619   \n",
            "instrumentalness    0.007368      0.194783     -0.110932      0.210217   \n",
            "key                -0.029812     -0.106239      0.063519      0.027327   \n",
            "liveness            0.026216     -0.140980     -0.131008     -0.057685   \n",
            "loudness           -0.112968     -0.680798      0.182549     -0.262051   \n",
            "mode                0.025994      0.068572     -0.069047     -0.056024   \n",
            "speechiness        -0.057549     -0.174780      0.098806     -0.085400   \n",
            "tempo              -0.060765     -0.196250     -0.127862     -0.151219   \n",
            "valence            -0.238945     -0.258466      0.500052     -0.052549   \n",
            "target             -0.873583     -0.223858      0.237218      0.089599   \n",
            "\n",
            "                    energy  instrumentalness       key  liveness  loudness  \\\n",
            "Unnamed: 0       -0.112489          0.007368 -0.029812  0.026216 -0.112968   \n",
            "acousticness     -0.725804          0.194783 -0.106239 -0.140980 -0.680798   \n",
            "danceability      0.136501         -0.110932  0.063519 -0.131008  0.182549   \n",
            "duration-min     -0.190619          0.210217  0.027327 -0.057685 -0.262051   \n",
            "energy            1.000000         -0.176074  0.083912  0.236566  0.841534   \n",
            "instrumentalness -0.176074          1.000000 -0.008586 -0.149564 -0.320130   \n",
            "key               0.083912         -0.008586  1.000000  0.046024  0.057417   \n",
            "liveness          0.236566         -0.149564  0.046024  1.000000  0.238716   \n",
            "loudness          0.841534         -0.320130  0.057417  0.238716  1.000000   \n",
            "mode             -0.052294          0.024545 -0.211045  0.003917 -0.065088   \n",
            "speechiness       0.145669         -0.196984  0.005540  0.193211  0.164576   \n",
            "tempo             0.223427         -0.021036  0.050302  0.011719  0.224331   \n",
            "valence           0.298881         -0.221406  0.039726 -0.041270  0.270314   \n",
            "target            0.111603          0.016069  0.036136 -0.078675  0.091868   \n",
            "\n",
            "                      mode  speechiness     tempo   valence    target  \n",
            "Unnamed: 0        0.025994    -0.057549 -0.060765 -0.238945 -0.873583  \n",
            "acousticness      0.068572    -0.174780 -0.196250 -0.258466 -0.223858  \n",
            "danceability     -0.069047     0.098806 -0.127862  0.500052  0.237218  \n",
            "duration-min     -0.056024    -0.085400 -0.151219 -0.052549  0.089599  \n",
            "energy           -0.052294     0.145669  0.223427  0.298881  0.111603  \n",
            "instrumentalness  0.024545    -0.196984 -0.021036 -0.221406  0.016069  \n",
            "key              -0.211045     0.005540  0.050302  0.039726  0.036136  \n",
            "liveness          0.003917     0.193211  0.011719 -0.041270 -0.078675  \n",
            "loudness         -0.065088     0.164576  0.224331  0.270314  0.091868  \n",
            "mode              1.000000     0.018153 -0.033405 -0.051283 -0.041769  \n",
            "speechiness       0.018153     1.000000  0.150583 -0.006773  0.028726  \n",
            "tempo            -0.033405     0.150583  1.000000  0.014029  0.051691  \n",
            "valence          -0.051283    -0.006773  0.014029  1.000000  0.298035  \n",
            "target           -0.041769     0.028726  0.051691  0.298035  1.000000  \n"
          ]
        }
      ]
    },
    {
      "cell_type": "code",
      "source": [
        "# Are the liveness is significantly different between targets 0 and 1\n",
        "\n",
        "import scipy.stats as stats\n",
        "liveness_0= data[data['target'] == 0]['liveness']\n",
        "liveness_1= data[data['target'] == 1]['liveness']\n",
        "\n",
        "print(np.var(liveness_0), \"\\t\", np.var(liveness_1))\n",
        "\n",
        "def get_ttest(x, y):\n",
        "  result = stats.ttest_ind(a=x, b=y, equal_var=True)\n",
        "  return result\n",
        "\n",
        "get_ttest(liveness_0, liveness_1)"
      ],
      "metadata": {
        "colab": {
          "base_uri": "https://localhost:8080/"
        },
        "id": "R1G5ZWyO-HNF",
        "outputId": "02cf3bd8-d368-4733-b0ae-1a67e7ca304e"
      },
      "execution_count": 69,
      "outputs": [
        {
          "output_type": "stream",
          "name": "stdout",
          "text": [
            "0.042475610981443576 \t 0.036249763214935365\n"
          ]
        },
        {
          "output_type": "execute_result",
          "data": {
            "text/plain": [
              "TtestResult(statistic=np.float64(2.4015437796286387), pvalue=np.float64(0.016522255336009626), df=np.float64(926.0))"
            ]
          },
          "metadata": {},
          "execution_count": 69
        }
      ]
    },
    {
      "cell_type": "code",
      "source": [
        "# Are the tempos significantly different between energies less than .4 and more than 0.6?\n",
        "\n",
        "tempo_low_energy = data[data['energy'] < 0.4]['tempo']\n",
        "tempo_high_energy = data[data['energy'] > 0.6]['tempo']\n",
        "\n",
        "print(np.var(tempo_low_energy), np.var(tempo_high_energy))\n",
        "get_ttest(tempo_low_energy,tempo_high_energy)"
      ],
      "metadata": {
        "colab": {
          "base_uri": "https://localhost:8080/"
        },
        "id": "oFLzqRK8_0to",
        "outputId": "aecabd7c-74f7-4a00-f68d-0d9ff9fc6eca"
      },
      "execution_count": 73,
      "outputs": [
        {
          "output_type": "stream",
          "name": "stdout",
          "text": [
            "1008.7104446185355 571.1601517370525\n"
          ]
        },
        {
          "output_type": "execute_result",
          "data": {
            "text/plain": [
              "TtestResult(statistic=np.float64(-5.78100386962915), pvalue=np.float64(1.0865529299468594e-08), df=np.float64(755.0))"
            ]
          },
          "metadata": {},
          "execution_count": 73
        }
      ]
    },
    {
      "cell_type": "code",
      "source": [
        "# Is there a significant difference in acousticness among songs with keys in the ranges 0–3, 4–7, and 8–11?\n",
        "\n",
        "key_0_3 = data[(data['key'] >= 0) & (data['key'] <= 3)]['acousticness']\n",
        "key_4_7 = data[(data['key'] >= 4) & (data['key'] <= 7)]['acousticness']\n",
        "key_8_11 = data[(data['key'] >= 8) & (data['key'] <= 11)]['acousticness']\n",
        "\n",
        "def get_anova_test(*groups):\n",
        "  result = stats.f_oneway(*groups)\n",
        "  return result\n",
        "\n",
        "anova_result = get_anova_test(key_0_3, key_4_7, key_8_11)\n",
        "print(f\"F-statistic: {anova_result.statistic}\")\n",
        "print(f\"P-value: {anova_result.pvalue}\")\n"
      ],
      "metadata": {
        "colab": {
          "base_uri": "https://localhost:8080/"
        },
        "id": "515mKm3-CqS9",
        "outputId": "9aff1e87-7d0f-4e3f-b61a-f78008aab910"
      },
      "execution_count": 74,
      "outputs": [
        {
          "output_type": "stream",
          "name": "stdout",
          "text": [
            "F-statistic: 5.898427401529825\n",
            "P-value: 0.002848018501581414\n"
          ]
        }
      ]
    },
    {
      "cell_type": "markdown",
      "source": [
        "# 9.&nbsp;Data Visualization"
      ],
      "metadata": {
        "id": "KbsOltGkGhEr"
      }
    },
    {
      "cell_type": "code",
      "source": [
        "#Correlation heatmap\n",
        "import matplotlib.pyplot as plt\n",
        "import seaborn as sns\n",
        "\n",
        "plt.figure(figsize=(8, 6))\n",
        "sns.heatmap(correlated_data, annot=True, cmap='viridis', fmt=\".2f\", square=True,\n",
        "            annot_kws={\"size\": 6})\n",
        "\n",
        "plt.title('Correlation Matrix Heatmap', fontsize=6)\n",
        "plt.tight_layout()\n",
        "plt.show()\n",
        "fig_heatmap = plt.figure()\n"
      ],
      "metadata": {
        "colab": {
          "base_uri": "https://localhost:8080/",
          "height": 624
        },
        "id": "r57QtPR1FweQ",
        "outputId": "c02f1334-d321-4d69-e723-87af1f10bc6f"
      },
      "execution_count": 91,
      "outputs": [
        {
          "output_type": "display_data",
          "data": {
            "text/plain": [
              "<Figure size 800x600 with 2 Axes>"
            ],
            "image/png": "[encoded data removed]"
          },
          "metadata": {}
        },
        {
          "output_type": "display_data",
          "data": {
            "text/plain": [
              "<Figure size 640x480 with 0 Axes>"
            ]
          },
          "metadata": {}
        }
      ]
    },
    {
      "cell_type": "code",
      "source": [
        "# ploting acousticness among songs with keys in the ranges 0–3, 4–7, and 8–11, in box plot\n",
        "# Create a DataFrame for plotting\n",
        "acousticness_data = pd.DataFrame({\n",
        "    'acousticness': pd.concat([key_0_3, key_4_7, key_8_11], ignore_index=True),\n",
        "    'key_group': (\n",
        "        ['0–3'] * len(key_0_3) +\n",
        "        ['4–7'] * len(key_4_7) +\n",
        "        ['8–11'] * len(key_8_11)\n",
        "    )\n",
        "})\n",
        "# Create the boxplot\n",
        "plt.figure(figsize=(5, 3))\n",
        "sns.boxplot(x='key_group', y='acousticness', data=acousticness_data, palette='pastel')\n",
        "\n",
        "plt.title('Acousticness by Key Groups')\n",
        "plt.xlabel('Key Group')\n",
        "plt.ylabel('Acousticness')\n",
        "plt.tight_layout()\n",
        "plt.show()\n",
        "fig_boxplot = plt.figure()"
      ],
      "metadata": {
        "colab": {
          "base_uri": "https://localhost:8080/",
          "height": 431
        },
        "id": "_JBgTQGIG_AV",
        "outputId": "9c9acf74-7d3e-4ff8-a924-7c813f2cdbc2"
      },
      "execution_count": 93,
      "outputs": [
        {
          "output_type": "stream",
          "name": "stderr",
          "text": [
            "<ipython-input-93-d70a58e723a0>:13: FutureWarning: \n",
            "\n",
            "Passing `palette` without assigning `hue` is deprecated and will be removed in v0.14.0. Assign the `x` variable to `hue` and set `legend=False` for the same effect.\n",
            "\n",
            "  sns.boxplot(x='key_group', y='acousticness', data=acousticness_data, palette='pastel')\n"
          ]
        },
        {
          "output_type": "display_data",
          "data": {
            "text/plain": [
              "<Figure size 500x300 with 1 Axes>"
            ],
            "image/png": "[encoded data removed]"
          },
          "metadata": {}
        },
        {
          "output_type": "display_data",
          "data": {
            "text/plain": [
              "<Figure size 640x480 with 0 Axes>"
            ]
          },
          "metadata": {}
        }
      ]
    },
    {
      "cell_type": "markdown",
      "source": [
        "# 10.&nbsp;Data Exporting"
      ],
      "metadata": {
        "id": "TnNFwTuHGmRS"
      }
    },
    {
      "cell_type": "code",
      "source": [
        "fig_heatmap.savefig('fig_heatmap.svg', dpi=300, bbox_inches='tight')\n",
        "fig_boxplot.savefig('fig_boxplot.svg', dpi=300, bbox_inches='tight')\n",
        "data.to_csv('Spotify_test_data.csv', header=True, index=True)\n"
      ],
      "metadata": {
        "id": "24s3TZenIfhx"
      },
      "execution_count": 94,
      "outputs": []
    }
  ]
}